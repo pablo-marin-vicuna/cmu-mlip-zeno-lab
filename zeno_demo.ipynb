{
  "cells": [
    {
      "cell_type": "markdown",
      "metadata": {
        "id": "XHtaPysVSNZN"
      },
      "source": [
        "# Step 1 - Install the required dependencies and make sure the python version is 3.10 and above"
      ]
    },
    {
      "cell_type": "code",
      "execution_count": 1,
      "metadata": {
        "id": "APS6D3eiSAR_"
      },
      "outputs": [
        {
          "name": "stdout",
          "output_type": "stream",
          "text": [
            "Collecting zeno-client\n",
            "  Obtaining dependency information for zeno-client from https://files.pythonhosted.org/packages/58/e7/8b9d88e34952f666f7f8a5f7a0dffaa00de68af849721c463eaf6c424ece/zeno_client-0.1.16-py3-none-any.whl.metadata\n",
            "  Downloading zeno_client-0.1.16-py3-none-any.whl.metadata (2.1 kB)\n",
            "Collecting arrow-json<0.10.0,>=0.9.0 (from zeno-client)\n",
            "  Obtaining dependency information for arrow-json<0.10.0,>=0.9.0 from https://files.pythonhosted.org/packages/32/bb/399d01107d0875b65b96c67c56fb081d5f4beae88f5ca89951e4cbbaa8c4/arrow_json-0.9.0-cp37-abi3-win_amd64.whl.metadata\n",
            "  Downloading arrow_json-0.9.0-cp37-abi3-win_amd64.whl.metadata (1.6 kB)\n",
            "Collecting outdated>=0.2.0 (from zeno-client)\n",
            "  Downloading outdated-0.2.2-py2.py3-none-any.whl (7.5 kB)\n",
            "Requirement already satisfied: pandas>=1.4.3 in c:\\users\\pabma\\anaconda3\\lib\\site-packages (from zeno-client) (2.0.3)\n",
            "Requirement already satisfied: pyarrow>=6.0.0 in c:\\users\\pabma\\anaconda3\\lib\\site-packages (from zeno-client) (11.0.0)\n",
            "Requirement already satisfied: pydantic>=1.0 in c:\\users\\pabma\\anaconda3\\lib\\site-packages (from zeno-client) (1.10.8)\n",
            "Requirement already satisfied: requests>=2.20.0 in c:\\users\\pabma\\anaconda3\\lib\\site-packages (from zeno-client) (2.31.0)\n",
            "Requirement already satisfied: tqdm>=4.1.0 in c:\\users\\pabma\\anaconda3\\lib\\site-packages (from zeno-client) (4.65.0)\n",
            "Requirement already satisfied: setuptools>=44 in c:\\users\\pabma\\anaconda3\\lib\\site-packages (from outdated>=0.2.0->zeno-client) (68.0.0)\n",
            "Collecting littleutils (from outdated>=0.2.0->zeno-client)\n",
            "  Downloading littleutils-0.2.2.tar.gz (6.6 kB)\n",
            "  Preparing metadata (setup.py): started\n",
            "  Preparing metadata (setup.py): finished with status 'done'\n",
            "Requirement already satisfied: python-dateutil>=2.8.2 in c:\\users\\pabma\\anaconda3\\lib\\site-packages (from pandas>=1.4.3->zeno-client) (2.8.2)\n",
            "Requirement already satisfied: pytz>=2020.1 in c:\\users\\pabma\\anaconda3\\lib\\site-packages (from pandas>=1.4.3->zeno-client) (2023.3.post1)\n",
            "Requirement already satisfied: tzdata>=2022.1 in c:\\users\\pabma\\anaconda3\\lib\\site-packages (from pandas>=1.4.3->zeno-client) (2023.3)\n",
            "Requirement already satisfied: numpy>=1.21.0 in c:\\users\\pabma\\anaconda3\\lib\\site-packages (from pandas>=1.4.3->zeno-client) (1.24.3)\n",
            "Requirement already satisfied: typing-extensions>=4.2.0 in c:\\users\\pabma\\anaconda3\\lib\\site-packages (from pydantic>=1.0->zeno-client) (4.7.1)\n",
            "Requirement already satisfied: charset-normalizer<4,>=2 in c:\\users\\pabma\\anaconda3\\lib\\site-packages (from requests>=2.20.0->zeno-client) (2.0.4)\n",
            "Requirement already satisfied: idna<4,>=2.5 in c:\\users\\pabma\\anaconda3\\lib\\site-packages (from requests>=2.20.0->zeno-client) (3.4)\n",
            "Requirement already satisfied: urllib3<3,>=1.21.1 in c:\\users\\pabma\\anaconda3\\lib\\site-packages (from requests>=2.20.0->zeno-client) (1.26.16)\n",
            "Requirement already satisfied: certifi>=2017.4.17 in c:\\users\\pabma\\anaconda3\\lib\\site-packages (from requests>=2.20.0->zeno-client) (2023.11.17)\n",
            "Requirement already satisfied: colorama in c:\\users\\pabma\\anaconda3\\lib\\site-packages (from tqdm>=4.1.0->zeno-client) (0.4.6)\n",
            "Requirement already satisfied: six>=1.5 in c:\\users\\pabma\\anaconda3\\lib\\site-packages (from python-dateutil>=2.8.2->pandas>=1.4.3->zeno-client) (1.16.0)\n",
            "Downloading zeno_client-0.1.16-py3-none-any.whl (7.3 kB)\n",
            "Downloading arrow_json-0.9.0-cp37-abi3-win_amd64.whl (1.3 MB)\n",
            "   ---------------------------------------- 0.0/1.3 MB ? eta -:--:--\n",
            "   - -------------------------------------- 0.0/1.3 MB 991.0 kB/s eta 0:00:02\n",
            "   ------ --------------------------------- 0.2/1.3 MB 2.8 MB/s eta 0:00:01\n",
            "   -------------- ------------------------- 0.5/1.3 MB 4.3 MB/s eta 0:00:01\n",
            "   ---------------------------------------  1.3/1.3 MB 9.2 MB/s eta 0:00:01\n",
            "   ---------------------------------------- 1.3/1.3 MB 8.4 MB/s eta 0:00:00\n",
            "Building wheels for collected packages: littleutils\n",
            "  Building wheel for littleutils (setup.py): started\n",
            "  Building wheel for littleutils (setup.py): finished with status 'done'\n",
            "  Created wheel for littleutils: filename=littleutils-0.2.2-py3-none-any.whl size=7034 sha256=e00dfecfc0e6faf01d0a248c1160ebc3080df2c4690f87469e17ca3e2f1bb351\n",
            "  Stored in directory: c:\\users\\pabma\\appdata\\local\\pip\\cache\\wheels\\17\\8d\\65\\9a39917567093c895549811c172be5d2dfb63c7e4b143e05a4\n",
            "Successfully built littleutils\n",
            "Installing collected packages: littleutils, outdated, arrow-json, zeno-client\n",
            "Successfully installed arrow-json-0.9.0 littleutils-0.2.2 outdated-0.2.2 zeno-client-0.1.16\n"
          ]
        },
        {
          "name": "stderr",
          "output_type": "stream",
          "text": [
            "DEPRECATION: Loading egg at c:\\users\\pabma\\anaconda3\\lib\\site-packages\\torchdata-0.7.1-py3.11.egg is deprecated. pip 23.3 will enforce this behaviour change. A possible replacement is to use pip for package installation..\n",
            "DEPRECATION: Loading egg at c:\\users\\pabma\\anaconda3\\lib\\site-packages\\torchtext-0.16.1-py3.11-win-amd64.egg is deprecated. pip 23.3 will enforce this behaviour change. A possible replacement is to use pip for package installation..\n"
          ]
        },
        {
          "name": "stdout",
          "output_type": "stream",
          "text": [
            "Requirement already satisfied: pip in c:\\users\\pabma\\anaconda3\\lib\\site-packages (23.2.1)\n",
            "Collecting pip\n",
            "  Obtaining dependency information for pip from https://files.pythonhosted.org/packages/8a/6a/19e9fe04fca059ccf770861c7d5721ab4c2aebc539889e97c7977528a53b/pip-24.0-py3-none-any.whl.metadata\n",
            "  Downloading pip-24.0-py3-none-any.whl.metadata (3.6 kB)\n",
            "Downloading pip-24.0-py3-none-any.whl (2.1 MB)\n",
            "   ---------------------------------------- 0.0/2.1 MB ? eta -:--:--\n",
            "   ---------------------------------------- 0.0/2.1 MB ? eta -:--:--\n",
            "    --------------------------------------- 0.0/2.1 MB 495.5 kB/s eta 0:00:05\n",
            "   --- ------------------------------------ 0.2/2.1 MB 1.4 MB/s eta 0:00:02\n",
            "   ------- -------------------------------- 0.4/2.1 MB 2.4 MB/s eta 0:00:01\n",
            "   -------------------- ------------------- 1.1/2.1 MB 5.7 MB/s eta 0:00:01\n",
            "   ---------------------------------------  2.1/2.1 MB 9.0 MB/s eta 0:00:01\n",
            "   ---------------------------------------- 2.1/2.1 MB 8.4 MB/s eta 0:00:00\n"
          ]
        },
        {
          "name": "stderr",
          "output_type": "stream",
          "text": [
            "DEPRECATION: Loading egg at c:\\users\\pabma\\anaconda3\\lib\\site-packages\\torchdata-0.7.1-py3.11.egg is deprecated. pip 23.3 will enforce this behaviour change. A possible replacement is to use pip for package installation..\n",
            "DEPRECATION: Loading egg at c:\\users\\pabma\\anaconda3\\lib\\site-packages\\torchtext-0.16.1-py3.11-win-amd64.egg is deprecated. pip 23.3 will enforce this behaviour change. A possible replacement is to use pip for package installation..\n",
            "ERROR: To modify pip, please run the following command:\n",
            "C:\\Users\\pabma\\anaconda3\\python.exe -m pip install --upgrade pip\n"
          ]
        },
        {
          "name": "stdout",
          "output_type": "stream",
          "text": [
            "Requirement already satisfied: bottleneck in c:\\users\\pabma\\anaconda3\\lib\\site-packages (1.3.5)\n",
            "Collecting bottleneck\n",
            "  Downloading Bottleneck-1.3.7-cp311-cp311-win_amd64.whl (109 kB)\n",
            "     ---------------------------------------- 0.0/109.9 kB ? eta -:--:--\n",
            "     --- ------------------------------------ 10.2/109.9 kB ? eta -:--:--\n",
            "     ------------- ----------------------- 41.0/109.9 kB 487.6 kB/s eta 0:00:01\n",
            "     --------------------------------- -- 102.4/109.9 kB 845.5 kB/s eta 0:00:01\n",
            "     ------------------------------------ 109.9/109.9 kB 797.1 kB/s eta 0:00:00\n",
            "Requirement already satisfied: numpy in c:\\users\\pabma\\anaconda3\\lib\\site-packages (from bottleneck) (1.24.3)\n",
            "Installing collected packages: bottleneck\n",
            "  Attempting uninstall: bottleneck\n",
            "    Found existing installation: Bottleneck 1.3.5\n",
            "    Uninstalling Bottleneck-1.3.5:\n",
            "      Successfully uninstalled Bottleneck-1.3.5\n",
            "Successfully installed bottleneck-1.3.7\n"
          ]
        },
        {
          "name": "stderr",
          "output_type": "stream",
          "text": [
            "DEPRECATION: Loading egg at c:\\users\\pabma\\anaconda3\\lib\\site-packages\\torchdata-0.7.1-py3.11.egg is deprecated. pip 23.3 will enforce this behaviour change. A possible replacement is to use pip for package installation..\n",
            "DEPRECATION: Loading egg at c:\\users\\pabma\\anaconda3\\lib\\site-packages\\torchtext-0.16.1-py3.11-win-amd64.egg is deprecated. pip 23.3 will enforce this behaviour change. A possible replacement is to use pip for package installation..\n"
          ]
        },
        {
          "name": "stdout",
          "output_type": "stream",
          "text": [
            "Collecting langdetect\n",
            "  Downloading langdetect-1.0.9.tar.gz (981 kB)\n",
            "     ---------------------------------------- 0.0/981.5 kB ? eta -:--:--\n",
            "     - ----------------------------------- 30.7/981.5 kB 660.6 kB/s eta 0:00:02\n",
            "     -- ---------------------------------- 71.7/981.5 kB 787.7 kB/s eta 0:00:02\n",
            "     ---------- --------------------------- 276.5/981.5 kB 2.1 MB/s eta 0:00:01\n",
            "     -------------------------------------  972.8/981.5 kB 5.6 MB/s eta 0:00:01\n",
            "     -------------------------------------- 981.5/981.5 kB 5.2 MB/s eta 0:00:00\n",
            "  Preparing metadata (setup.py): started\n",
            "  Preparing metadata (setup.py): finished with status 'done'\n",
            "Requirement already satisfied: six in c:\\users\\pabma\\anaconda3\\lib\\site-packages (from langdetect) (1.16.0)\n",
            "Building wheels for collected packages: langdetect\n",
            "  Building wheel for langdetect (setup.py): started\n",
            "  Building wheel for langdetect (setup.py): finished with status 'done'\n",
            "  Created wheel for langdetect: filename=langdetect-1.0.9-py3-none-any.whl size=993253 sha256=39182fe727d59fb191c84c5deed8d798b4c531ae6c0f1fce456243f8d8dbd021\n",
            "  Stored in directory: c:\\users\\pabma\\appdata\\local\\pip\\cache\\wheels\\0a\\f2\\b2\\e5ca405801e05eb7c8ed5b3b4bcf1fcabcd6272c167640072e\n",
            "Successfully built langdetect\n",
            "Installing collected packages: langdetect\n",
            "Successfully installed langdetect-1.0.9\n"
          ]
        },
        {
          "name": "stderr",
          "output_type": "stream",
          "text": [
            "DEPRECATION: Loading egg at c:\\users\\pabma\\anaconda3\\lib\\site-packages\\torchdata-0.7.1-py3.11.egg is deprecated. pip 23.3 will enforce this behaviour change. A possible replacement is to use pip for package installation..\n",
            "DEPRECATION: Loading egg at c:\\users\\pabma\\anaconda3\\lib\\site-packages\\torchtext-0.16.1-py3.11-win-amd64.egg is deprecated. pip 23.3 will enforce this behaviour change. A possible replacement is to use pip for package installation..\n"
          ]
        }
      ],
      "source": [
        "!pip install zeno-client\n",
        "!pip install --upgrade pip\n",
        "!pip install --upgrade bottleneck\n",
        "!pip install langdetect\n"
      ]
    },
    {
      "cell_type": "code",
      "execution_count": 2,
      "metadata": {
        "colab": {
          "base_uri": "https://localhost:8080/"
        },
        "id": "CRrMiMnLV9xY",
        "outputId": "5193e819-f2cb-4032-99df-ced1ea7b4191"
      },
      "outputs": [
        {
          "name": "stdout",
          "output_type": "stream",
          "text": [
            "Python 3.11.5\n"
          ]
        }
      ],
      "source": [
        "!python --version"
      ]
    },
    {
      "cell_type": "code",
      "execution_count": 5,
      "metadata": {},
      "outputs": [
        {
          "name": "stdout",
          "output_type": "stream",
          "text": [
            "Requirement already satisfied: packaging in c:\\users\\pabma\\anaconda3\\lib\\site-packages (23.1)\n"
          ]
        },
        {
          "name": "stderr",
          "output_type": "stream",
          "text": [
            "DEPRECATION: Loading egg at c:\\users\\pabma\\anaconda3\\lib\\site-packages\\torchdata-0.7.1-py3.11.egg is deprecated. pip 23.3 will enforce this behaviour change. A possible replacement is to use pip for package installation..\n",
            "DEPRECATION: Loading egg at c:\\users\\pabma\\anaconda3\\lib\\site-packages\\torchtext-0.16.1-py3.11-win-amd64.egg is deprecated. pip 23.3 will enforce this behaviour change. A possible replacement is to use pip for package installation..\n"
          ]
        }
      ],
      "source": [
        "!pip install packaging"
      ]
    },
    {
      "cell_type": "code",
      "execution_count": 6,
      "metadata": {
        "id": "wHMa3ItBSSdu"
      },
      "outputs": [],
      "source": [
        "from zeno_client import ZenoClient, ZenoMetric\n",
        "import pandas as pd\n",
        "\n",
        "# Initialize a client with our API key.\n",
        "client = ZenoClient(\"zen_pyhNTiu6uj-noSr8Qqv8ub-xVdZqdJXWi6rZkELMnAU\")\n"
      ]
    },
    {
      "cell_type": "markdown",
      "metadata": {
        "id": "bwOPnZ1vSfWt"
      },
      "source": [
        "# Step 2 - Create a project"
      ]
    },
    {
      "cell_type": "code",
      "execution_count": 22,
      "metadata": {
        "id": "9UdBAYUsSXBH"
      },
      "outputs": [
        {
          "name": "stdout",
          "output_type": "stream",
          "text": [
            "Successfully updated project.\n",
            "Access your project at  https://hub.zenoml.com/project/9890be46-86c1-4af8-a8c8-935dec7990aa/Biased%20Movies%20Analysis\n"
          ]
        }
      ],
      "source": [
        "project = client.create_project(\n",
        "    name=\"Biased Movies Analysis\",\n",
        "    view=\"text-classification\",\n",
        "    metrics=[\n",
        "        ZenoMetric(name=\"accuracy\", type=\"mean\", columns=[\"correct\"]),\n",
        "        #Uncomment the following line after implementing the function\n",
        "        ZenoMetric(name=\"avg length ratio\", type=\"mean\", columns=[\"avg_length_ratio\"]),\n",
        "    ]\n",
        ")"
      ]
    },
    {
      "cell_type": "markdown",
      "metadata": {
        "id": "c-lh1yUhXjsd"
      },
      "source": [
        "# Step 3 - Create dataset"
      ]
    },
    {
      "cell_type": "code",
      "execution_count": 21,
      "metadata": {
        "id": "s4x_f9QqSjHT"
      },
      "outputs": [],
      "source": [
        "import pandas as pd\n",
        "from langdetect import detect\n",
        "from collections import Counter\n",
        "import random\n",
        "\n",
        "# Sample language detection function\n",
        "def detect_language(text):\n",
        "    try:\n",
        "        return detect(text)\n",
        "    except:\n",
        "        return \"Unknown\"\n",
        "\n",
        "# Create a Pandas DataFrame for the biased dataset of movies\n",
        "df = pd.DataFrame(\n",
        "    {\n",
        "        \"id\": range(1, 11),  # Using only 10 instances for demonstration\n",
        "        \"text\": [\n",
        "            \"I love this movie!\",\n",
        "            \"¡Odio esta película!\",\n",
        "            \"Ce film est ok.\",\n",
        "            \"The acting was great!\",\n",
        "            \"The plot was confusing.\",\n",
        "            \"I really enjoyed it!\",\n",
        "            \"Worst movie ever!\",\n",
        "            \"Not bad, but could be better.\",\n",
        "            \"A masterpiece!\",\n",
        "            \"I didn't like it.\",\n",
        "        ],\n",
        "        \"genre\": [\"action\", \"drama\", \"comedy\", \"action\", \"drama\", \"action\", \"drama\", \"comedy\", \"action\", \"drama\"],\n",
        "        \"year\": [random.choice([2020, 2021, 2022]) for _ in range(10)],  # Randomly select year\n",
        "        \"label\": [\"positive\", \"negative\", \"neutral\", \"positive\", \"negative\", \"positive\", \"negative\", \"neutral\", \"positive\", \"negative\"],\n",
        "    }\n",
        ")\n",
        "\n",
        "# Introduce biases in genre\n",
        "biased_genre = [\"action\", \"action\", \"drama\", \"drama\", \"comedy\", \"comedy\", \"comedy\", \"comedy\", \"drama\", \"drama\"]\n",
        "df[\"biased_genre\"] = biased_genre\n",
        "\n",
        "# Introduce biases in year\n",
        "biased_year = [2020, 2020, 2020, 2021, 2021, 2021, 2022, 2022, 2022, 2022]\n",
        "df[\"biased_year\"] = biased_year\n",
        "\n",
        "# Add language detection to create a new column\n",
        "df[\"detected_language\"] = df[\"text\"].apply(detect_language)\n",
        "\n",
        "# Add additional columns for analysis\n",
        "df[\"input_length\"] = df[\"text\"].str.len()\n",
        "\n",
        "#Uncomment the following line\n",
        "df[\"avg_length_ratio\"] = df['input_length'].mean()\n",
        "\n"
      ]
    },
    {
      "cell_type": "markdown",
      "metadata": {
        "id": "9MRmyxrQX0-v"
      },
      "source": [
        "# Step 4 - Upload the Base Dataset\n"
      ]
    },
    {
      "cell_type": "code",
      "execution_count": 10,
      "metadata": {
        "id": "gX5H6b9mXxyW"
      },
      "outputs": [
        {
          "data": {
            "application/vnd.jupyter.widget-view+json": {
              "model_id": "b74d7927148e4c38a56055784c2e9c46",
              "version_major": 2,
              "version_minor": 0
            },
            "text/plain": [
              "  0%|          | 0/1 [00:00<?, ?it/s]"
            ]
          },
          "metadata": {},
          "output_type": "display_data"
        },
        {
          "name": "stdout",
          "output_type": "stream",
          "text": [
            "Successfully uploaded data\n"
          ]
        }
      ],
      "source": [
        "\n",
        "project.upload_dataset(df, id_column=\"id\", data_column=\"text\", label_column=\"label\")\n",
        "\n"
      ]
    },
    {
      "cell_type": "markdown",
      "metadata": {
        "id": "22toUe1iX_Se"
      },
      "source": [
        "# Step 5 - Upload the AI System Outputs\n"
      ]
    },
    {
      "cell_type": "code",
      "execution_count": 12,
      "metadata": {
        "id": "Rj6kOAkAXzBN"
      },
      "outputs": [],
      "source": [
        "# For demonstration, let's assume we have system predictions\n",
        "df_system = pd.DataFrame(\n",
        "    {\n",
        "        \"output\": [\"positive\", \"negative\", \"negative\", \"positive\", \"negative\", \"positive\", \"negative\", \"neutral\", \"positive\", \"negative\"],\n",
        "    }\n",
        ")\n",
        "\n",
        "# Create an id column to match the base dataset\n",
        "df_system[\"id\"] = df_system.index + 1\n",
        "\n",
        "# Measure accuracy for each instance, which is averaged by the ZenoMetric above\n",
        "df_system[\"correct\"] = (df_system[\"output\"] == df[\"label\"]).astype(int)\n",
        "\n"
      ]
    },
    {
      "cell_type": "markdown",
      "metadata": {
        "id": "wemoUlruYE2p"
      },
      "source": [
        "# Step 6 - Upload the system outputs\n"
      ]
    },
    {
      "cell_type": "code",
      "execution_count": 13,
      "metadata": {
        "id": "VkYtYnuBYEAR"
      },
      "outputs": [
        {
          "data": {
            "application/vnd.jupyter.widget-view+json": {
              "model_id": "d353c6dc547646e1b57d04bb4a143d5f",
              "version_major": 2,
              "version_minor": 0
            },
            "text/plain": [
              "  0%|          | 0/1 [00:00<?, ?it/s]"
            ]
          },
          "metadata": {},
          "output_type": "display_data"
        },
        {
          "name": "stdout",
          "output_type": "stream",
          "text": [
            "Successfully uploaded system\n"
          ]
        }
      ],
      "source": [
        "project.upload_system(df_system, name=\"System A\", id_column=\"id\", output_column=\"output\")"
      ]
    }
  ],
  "metadata": {
    "colab": {
      "provenance": []
    },
    "kernelspec": {
      "display_name": "Python 3",
      "name": "python3"
    },
    "language_info": {
      "codemirror_mode": {
        "name": "ipython",
        "version": 3
      },
      "file_extension": ".py",
      "mimetype": "text/x-python",
      "name": "python",
      "nbconvert_exporter": "python",
      "pygments_lexer": "ipython3",
      "version": "3.11.5"
    }
  },
  "nbformat": 4,
  "nbformat_minor": 0
}
